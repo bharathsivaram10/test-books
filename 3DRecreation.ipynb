{
 "cells": [
  {
   "cell_type": "code",
   "execution_count": 3,
   "metadata": {},
   "outputs": [
    {
     "name": "stdout",
     "output_type": "stream",
     "text": [
      "(10, 4)\n",
      "(3, 3)\n"
     ]
    },
    {
     "ename": "ValueError",
     "evalue": "matmul: Input operand 1 has a mismatch in its core dimension 0, with gufunc signature (n?,k),(k,m?)->(n?,m?) (size 4 is different from 3)",
     "output_type": "error",
     "traceback": [
      "\u001b[1;31m---------------------------------------------------------------------------\u001b[0m",
      "\u001b[1;31mValueError\u001b[0m                                Traceback (most recent call last)",
      "Cell \u001b[1;32mIn[3], line 27\u001b[0m\n\u001b[0;32m     24\u001b[0m     \u001b[39mreturn\u001b[39;00m projections\n\u001b[0;32m     26\u001b[0m \u001b[39m# Get initial 2D projections\u001b[39;00m\n\u001b[1;32m---> 27\u001b[0m initial_2d_points \u001b[39m=\u001b[39m project_points(points_3d, R, T, K)\n\u001b[0;32m     29\u001b[0m \u001b[39m# Define the residual function (difference between observed and projected 2D points)\u001b[39;00m\n\u001b[0;32m     30\u001b[0m \u001b[39mdef\u001b[39;00m \u001b[39mresiduals\u001b[39m(params, n_points, K, initial_2d_points):\n",
      "Cell \u001b[1;32mIn[3], line 22\u001b[0m, in \u001b[0;36mproject_points\u001b[1;34m(points, R, T, K)\u001b[0m\n\u001b[0;32m     20\u001b[0m \u001b[39mprint\u001b[39m(points_homogeneous\u001b[39m.\u001b[39mshape)\n\u001b[0;32m     21\u001b[0m \u001b[39mprint\u001b[39m(R\u001b[39m.\u001b[39mshape)\n\u001b[1;32m---> 22\u001b[0m projections \u001b[39m=\u001b[39m (K \u001b[39m@\u001b[39m (R \u001b[39m@\u001b[39;49m points_homogeneous\u001b[39m.\u001b[39;49mT \u001b[39m+\u001b[39m T[:, \u001b[39mNone\u001b[39;00m]))\u001b[39m.\u001b[39mT\n\u001b[0;32m     23\u001b[0m projections \u001b[39m=\u001b[39m projections[:, :\u001b[39m2\u001b[39m] \u001b[39m/\u001b[39m projections[:, \u001b[39m2\u001b[39m][:, \u001b[39mNone\u001b[39;00m]  \u001b[39m# Normalize by depth (z)\u001b[39;00m\n\u001b[0;32m     24\u001b[0m \u001b[39mreturn\u001b[39;00m projections\n",
      "\u001b[1;31mValueError\u001b[0m: matmul: Input operand 1 has a mismatch in its core dimension 0, with gufunc signature (n?,k),(k,m?)->(n?,m?) (size 4 is different from 3)"
     ]
    }
   ],
   "source": [
    "import numpy as np\n",
    "from scipy.optimize import least_squares\n",
    "\n",
    "# Simulated 3D points\n",
    "n_points = 10\n",
    "points_3d = np.random.randn(n_points, 3)  # 10 3D points\n",
    "\n",
    "# Simulated camera parameters (rotation and translation)\n",
    "R = np.eye(3)  # Identity matrix as a simple rotation\n",
    "T = np.zeros(3)  # Zero translation\n",
    "K = np.array([[800, 0, 320],  # Intrinsic matrix (fx, fy, cx, cy)\n",
    "              [0, 800, 240],\n",
    "              [0, 0, 1]])\n",
    "\n",
    "# 2D projections of the 3D points (simulated)\n",
    "# Here we simulate projections by simply projecting points using the intrinsic matrix and camera pose\n",
    "def project_points(points, R, T, K):\n",
    "    # Project 3D points to 2D using the camera parameters\n",
    "    points_homogeneous = np.hstack([points, np.ones((points.shape[0], 1))])\n",
    "    print(points_homogeneous.shape)\n",
    "    print(R.shape)\n",
    "    projections = (K @ (R @ points_homogeneous.T + T[:, None])).T\n",
    "    projections = projections[:, :2] / projections[:, 2][:, None]  # Normalize by depth (z)\n",
    "    return projections\n",
    "\n",
    "# Get initial 2D projections\n",
    "initial_2d_points = project_points(points_3d, R, T, K)\n",
    "\n",
    "# Define the residual function (difference between observed and projected 2D points)\n",
    "def residuals(params, n_points, K, initial_2d_points):\n",
    "    R = params[:9].reshape(3, 3)  # First 9 params are rotation (3x3 matrix)\n",
    "    T = params[9:12]  # Next 3 are translation (3 elements)\n",
    "    points_3d = params[12:].reshape(n_points, 3)  # Remaining are the 3D points\n",
    "\n",
    "    projections = project_points(points_3d, R, T, K)  # Project 3D points to 2D\n",
    "    residual = (projections - initial_2d_points).flatten()  # Flatten the residuals\n",
    "    return residual\n",
    "\n",
    "# Initial guess for optimization: R, T, and 3D points (all zeros)\n",
    "initial_guess = np.hstack([np.eye(3).flatten(), np.zeros(12), points_3d.flatten()])\n",
    "\n",
    "# Perform optimization (bundle adjustment)\n",
    "result = least_squares(residuals, initial_guess, args=(n_points, K, initial_2d_points))\n",
    "\n",
    "# Extract optimized parameters\n",
    "R_opt = result.x[:9].reshape(3, 3)\n",
    "T_opt = result.x[9:12]\n",
    "points_3d_opt = result.x[12:].reshape(n_points, 3)\n",
    "\n",
    "print(\"Optimized Rotation:\\n\", R_opt)\n",
    "print(\"Optimized Translation:\\n\", T_opt)\n",
    "print(\"Optimized 3D Points:\\n\", points_3d_opt)\n"
   ]
  }
 ],
 "metadata": {
  "kernelspec": {
   "display_name": "snowflakes",
   "language": "python",
   "name": "python3"
  },
  "language_info": {
   "codemirror_mode": {
    "name": "ipython",
    "version": 3
   },
   "file_extension": ".py",
   "mimetype": "text/x-python",
   "name": "python",
   "nbconvert_exporter": "python",
   "pygments_lexer": "ipython3",
   "version": "3.10.10"
  },
  "orig_nbformat": 4
 },
 "nbformat": 4,
 "nbformat_minor": 2
}
