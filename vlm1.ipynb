{
 "cells": [
  {
   "cell_type": "code",
   "execution_count": 4,
   "metadata": {},
   "outputs": [],
   "source": [
    "import torch\n",
    "import torch.nn as nn\n",
    "import torch.nn.functional as F\n",
    "\n",
    "class PatchEmbeddings(nn.Module):\n",
    "\n",
    "    def __init__(self, img_size=96, patch_size = 16, hidden_dim = 512):\n",
    "        super().__init__()\n",
    "\n",
    "        self.img_size = img_size\n",
    "        self.patch_size = patch_size\n",
    "        self.num_patches = (img_size // patch_size) ** 2\n",
    "\n",
    "        self.conv = nn.Conv2d(in_channels=3, out_channels=hidden_dim, kernel_size=patch_size, stride=patch_size)\n",
    "\n",
    "    def forward(self, X: torch.Tensor):\n",
    "\n",
    "        X = self.conv(X) # (B, hidden_dim, sqrt(num_patches), sqrt(num_patches))\n",
    "\n",
    "        X = X.flatten(2) # (B, hidden_dim, num_patches)\n",
    "\n",
    "        X = X.transpose(1,2) # (B, num_patches, hidden_dim)\n",
    "\n",
    "        return X\n",
    "\n",
    "x = torch.rand(5,3,96,96)\n",
    "patch_emb = PatchEmbeddings()\n",
    "y = patch_emb(x)"
   ]
  },
  {
   "cell_type": "code",
   "execution_count": 8,
   "metadata": {},
   "outputs": [],
   "source": [
    "class Head(nn.Module):\n",
    "\n",
    "    def __init__(self, n_embd, head_size, dropout=0.1, is_decoder = False) -> None:\n",
    "        super().__init__()\n",
    "\n",
    "        self.key = nn.Linear(n_embd, head_size, bias = False)\n",
    "\n",
    "        self.query = nn.Linear(n_embd, head_size, bias = False)\n",
    "\n",
    "        self.value = nn.Linear(n_embd, head_size, bias = False)\n",
    "\n",
    "        self.dropout = nn.Dropout(dropout)\n",
    "\n",
    "        self.is_decoder = is_decoder\n",
    "\n",
    "    def forward(self, x):\n",
    "\n",
    "        # Batch dim (B), Sequence length (T), Embdedding dim (C)\n",
    "        B,T,C = x.shape\n",
    "\n",
    "        q = self.query(x)\n",
    "        k = self.key(x)\n",
    "        v = self.value(x)\n",
    "\n",
    "        wei = q @ k.transpose(-2,-1) * (C ** -0.5) # (B,T,T)\n",
    "\n",
    "        if self.is_decoder:\n",
    "            # If head used in decoder appy causal mask to attention scores to prevent attending to future\n",
    "            tril = torch.tril(torch.ones(T,T, dtype = torch.bool, device = x.device))\n",
    "            wei = wei.masked_fill(tril == 0, float('inf'))\n",
    "\n",
    "        # Apply softmax to attention scores to get attention probs\n",
    "        wei = F.softmax(wei, dim=-1)\n",
    "\n",
    "        # Apply dropout for regularization\n",
    "        wei = self.dropout(wei)\n",
    "\n",
    "        out = wei @ v # (B,T,T) @ (B,T, head_size) -> (B, T, head_size)\n",
    "\n",
    "        return out"
   ]
  },
  {
   "cell_type": "code",
   "execution_count": 9,
   "metadata": {},
   "outputs": [
    {
     "data": {
      "text/plain": [
       "torch.Size([5, 36, 4])"
      ]
     },
     "execution_count": 9,
     "metadata": {},
     "output_type": "execute_result"
    }
   ],
   "source": [
    "# Testing\n",
    "x = torch.rand(5,36,512)\n",
    "head = Head(512, 4)\n",
    "out = head(x)\n",
    "out.shape"
   ]
  },
  {
   "cell_type": "code",
   "execution_count": null,
   "metadata": {},
   "outputs": [],
   "source": [
    "class MultiHeadAttention(nn.Module):\n",
    "    def __init__(self, n_embd, n_heads, dropout = 0.1, is_decoder = False) -> None:\n",
    "        super().__init__(*args, **kwargs)"
   ]
  }
 ],
 "metadata": {
  "kernelspec": {
   "display_name": "snowflakes",
   "language": "python",
   "name": "python3"
  },
  "language_info": {
   "codemirror_mode": {
    "name": "ipython",
    "version": 3
   },
   "file_extension": ".py",
   "mimetype": "text/x-python",
   "name": "python",
   "nbconvert_exporter": "python",
   "pygments_lexer": "ipython3",
   "version": "3.10.10"
  },
  "orig_nbformat": 4
 },
 "nbformat": 4,
 "nbformat_minor": 2
}
